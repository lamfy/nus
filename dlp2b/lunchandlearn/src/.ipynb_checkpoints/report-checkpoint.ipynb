{
 "cells": [
  {
   "cell_type": "markdown",
   "id": "1a3d26a2",
   "metadata": {},
   "source": [
    "### Lunch and Learn"
   ]
  },
  {
   "cell_type": "markdown",
   "id": "3eee961c",
   "metadata": {},
   "source": [
    "#### Load Libraries"
   ]
  },
  {
   "cell_type": "code",
   "execution_count": 24,
   "id": "2cc51da8",
   "metadata": {},
   "outputs": [],
   "source": [
    "import pandas as pd"
   ]
  },
  {
   "cell_type": "markdown",
   "id": "264a7b68",
   "metadata": {},
   "source": [
    "#### Load Data I"
   ]
  },
  {
   "cell_type": "code",
   "execution_count": 30,
   "id": "35db2aa1",
   "metadata": {},
   "outputs": [],
   "source": [
    "# Load the data\n",
    "df_attnd = pd.read_csv(\"../data/attendance_batch1.csv\")\n",
    "# Select required columns\n",
    "df_attnd = df_attnd[[\"Session\", \"Participant ID (UPN)\"]]\n",
    "# Remove duplicate entries (e.g., learners who logged in and logged out for the same session)\n",
    "df_attnd = df_attnd.drop_duplicates(subset=[\"Session\", \"Participant ID (UPN)\"], keep=\"first\")\n",
    "# Add an indicator of attendance\n",
    "df_attnd[\"Present\"] = 1\n",
    "# Pivot from long to wide\n",
    "df_attnd = df_attnd.pivot(index=\"Participant ID (UPN)\", columns=\"Session\", values=\"Present\")\n",
    "# Replace NaNs with 0\n",
    "df_attnd = df_attnd.fillna(0)\n",
    "# Change Participant ID from index to column\n",
    "df_attnd = df_attnd.reset_index(inplace=False)"
   ]
  },
  {
   "cell_type": "code",
   "execution_count": 37,
   "id": "18fa816f",
   "metadata": {},
   "outputs": [],
   "source": [
    "df_attnd[\"Participant ID (UPN)\"] = df_attnd[\"Participant ID (UPN)\"].replace(\"sheela.r@nus.edu.sg\", \"oshrsh@nus.edu.sg\")\n",
    "df_attnd[\"Attendance\"] = df_attnd.iloc[:,1:12].sum(axis=1)"
   ]
  },
  {
   "cell_type": "markdown",
   "id": "62dd2a91",
   "metadata": {},
   "source": [
    "#### Load Data II"
   ]
  },
  {
   "cell_type": "code",
   "execution_count": 42,
   "id": "552c45ce",
   "metadata": {},
   "outputs": [],
   "source": [
    "df_grade = pd.read_csv(\"../data/gradebook_batch1.csv\")"
   ]
  },
  {
   "cell_type": "markdown",
   "id": "8174b881",
   "metadata": {},
   "source": [
    "#### Merge Data"
   ]
  },
  {
   "cell_type": "code",
   "execution_count": 46,
   "id": "4d8d18ab",
   "metadata": {},
   "outputs": [],
   "source": [
    "df = pd.merge(left=df_grade, right=df_attnd, how=\"left\", left_on=\"Staff Email\", right_on=\"Participant ID (UPN)\")"
   ]
  },
  {
   "cell_type": "code",
   "execution_count": 50,
   "id": "52b6e408",
   "metadata": {},
   "outputs": [],
   "source": [
    "df = df.fillna(0)"
   ]
  }
 ],
 "metadata": {
  "kernelspec": {
   "display_name": "Python 3 (ipykernel)",
   "language": "python",
   "name": "python3"
  },
  "language_info": {
   "codemirror_mode": {
    "name": "ipython",
    "version": 3
   },
   "file_extension": ".py",
   "mimetype": "text/x-python",
   "name": "python",
   "nbconvert_exporter": "python",
   "pygments_lexer": "ipython3",
   "version": "3.9.12"
  }
 },
 "nbformat": 4,
 "nbformat_minor": 5
}
